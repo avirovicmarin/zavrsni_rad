{
 "cells": [
  {
   "cell_type": "code",
   "execution_count": 2,
   "id": "788a89fb",
   "metadata": {},
   "outputs": [
    {
     "name": "stdout",
     "output_type": "stream",
     "text": [
      "Collecting snscrape\n",
      "  Downloading snscrape-0.4.3.20220106-py3-none-any.whl (59 kB)\n",
      "Requirement already satisfied: filelock in c:\\anaconda3\\lib\\site-packages (from snscrape) (3.3.1)\n",
      "Requirement already satisfied: beautifulsoup4 in c:\\anaconda3\\lib\\site-packages (from snscrape) (4.10.0)\n",
      "Requirement already satisfied: lxml in c:\\anaconda3\\lib\\site-packages (from snscrape) (4.6.3)\n",
      "Requirement already satisfied: requests[socks] in c:\\anaconda3\\lib\\site-packages (from snscrape) (2.26.0)\n",
      "Requirement already satisfied: soupsieve>1.2 in c:\\anaconda3\\lib\\site-packages (from beautifulsoup4->snscrape) (2.2.1)\n",
      "Requirement already satisfied: certifi>=2017.4.17 in c:\\anaconda3\\lib\\site-packages (from requests[socks]->snscrape) (2021.10.8)\n",
      "Requirement already satisfied: charset-normalizer~=2.0.0 in c:\\anaconda3\\lib\\site-packages (from requests[socks]->snscrape) (2.0.4)\n",
      "Requirement already satisfied: urllib3<1.27,>=1.21.1 in c:\\anaconda3\\lib\\site-packages (from requests[socks]->snscrape) (1.26.7)\n",
      "Requirement already satisfied: idna<4,>=2.5 in c:\\anaconda3\\lib\\site-packages (from requests[socks]->snscrape) (3.2)\n",
      "Requirement already satisfied: PySocks!=1.5.7,>=1.5.6 in c:\\anaconda3\\lib\\site-packages (from requests[socks]->snscrape) (1.7.1)\n",
      "Installing collected packages: snscrape\n",
      "Successfully installed snscrape-0.4.3.20220106\n"
     ]
    }
   ],
   "source": [
    "! pip install snscrape"
   ]
  },
  {
   "cell_type": "code",
   "execution_count": 3,
   "id": "29371d49",
   "metadata": {},
   "outputs": [],
   "source": [
    "import snscrape.modules.twitter as sntwitter\n",
    "import pandas as pd"
   ]
  },
  {
   "cell_type": "code",
   "execution_count": 5,
   "id": "cf8ab701",
   "metadata": {},
   "outputs": [
    {
     "name": "stdout",
     "output_type": "stream",
     "text": [
      "{'url': 'https://twitter.com/icingonthecpcke/status/1528043355422195713', 'date': datetime.datetime(2022, 5, 21, 16, 1, 40, tzinfo=datetime.timezone.utc), 'content': 'Today is the last day for Marvelous Marble #OffSeasonFlavor #Chocolate #Vanilla https://t.co/9EciUahTEd', 'renderedContent': 'Today is the last day for Marvelous Marble #OffSeasonFlavor #Chocolate #Vanilla https://t.co/9EciUahTEd', 'id': 1528043355422195713, 'user': User(username='icingonthecpcke', id=62378447, displayname='Icing on the Cupcake', description='Everyone deserves a cupcake...', rawDescription='Everyone deserves a cupcake...', descriptionUrls=None, verified=False, created=datetime.datetime(2009, 8, 2, 23, 32, 57, tzinfo=datetime.timezone.utc), followersCount=1000, friendsCount=37, statusesCount=3166, favouritesCount=159, listedCount=56, mediaCount=2501, location='6839 Lonetree Blvd Rocklin, CA', protected=False, linkUrl='http://www.icingonthecupcake.com', linkTcourl='https://t.co/C2XgrKxq6n', profileImageUrl='https://pbs.twimg.com/profile_images/1127996098956517376/R6bQsMF7_normal.png', profileBannerUrl='https://pbs.twimg.com/profile_banners/62378447/1572366473', label=None), 'replyCount': 0, 'retweetCount': 0, 'likeCount': 0, 'quoteCount': 0, 'conversationId': 1528043355422195713, 'lang': 'en', 'source': '<a href=\"https://www.hootsuite.com\" rel=\"nofollow\">Hootsuite Inc.</a>', 'sourceUrl': 'https://www.hootsuite.com', 'sourceLabel': 'Hootsuite Inc.', 'outlinks': None, 'tcooutlinks': None, 'media': [Photo(previewUrl='https://pbs.twimg.com/media/FTSzVYOXsAMjBOB?format=jpg&name=small', fullUrl='https://pbs.twimg.com/media/FTSzVYOXsAMjBOB?format=jpg&name=large')], 'retweetedTweet': None, 'quotedTweet': None, 'inReplyToTweetId': None, 'inReplyToUser': None, 'mentionedUsers': None, 'coordinates': None, 'place': None, 'hashtags': ['OffSeasonFlavor', 'Chocolate', 'Vanilla'], 'cashtags': None}\n"
     ]
    }
   ],
   "source": [
    "query = '#chocolate'\n",
    "\n",
    "for tweet in sntwitter.TwitterSearchScraper(query).get_items():\n",
    "    print(vars(tweet))\n",
    "    break\n"
   ]
  },
  {
   "cell_type": "code",
   "execution_count": 9,
   "id": "d9a9f727",
   "metadata": {},
   "outputs": [
    {
     "data": {
      "text/html": [
       "<div>\n",
       "<style scoped>\n",
       "    .dataframe tbody tr th:only-of-type {\n",
       "        vertical-align: middle;\n",
       "    }\n",
       "\n",
       "    .dataframe tbody tr th {\n",
       "        vertical-align: top;\n",
       "    }\n",
       "\n",
       "    .dataframe thead th {\n",
       "        text-align: right;\n",
       "    }\n",
       "</style>\n",
       "<table border=\"1\" class=\"dataframe\">\n",
       "  <thead>\n",
       "    <tr style=\"text-align: right;\">\n",
       "      <th></th>\n",
       "      <th>date</th>\n",
       "      <th>content</th>\n",
       "      <th>like_count</th>\n",
       "      <th>retweet_count</th>\n",
       "      <th>username</th>\n",
       "      <th>verified</th>\n",
       "    </tr>\n",
       "  </thead>\n",
       "  <tbody>\n",
       "    <tr>\n",
       "      <th>0</th>\n",
       "      <td>2022-05-21 16:12:26+00:00</td>\n",
       "      <td>Paleo breakfast two over easy eggs+ bologna sa...</td>\n",
       "      <td>0</td>\n",
       "      <td>0</td>\n",
       "      <td>vibeman49</td>\n",
       "      <td>False</td>\n",
       "    </tr>\n",
       "    <tr>\n",
       "      <th>1</th>\n",
       "      <td>2022-05-21 16:06:30+00:00</td>\n",
       "      <td>Our Bitter Cacao Sourdough Bread - bitter Cioc...</td>\n",
       "      <td>1</td>\n",
       "      <td>0</td>\n",
       "      <td>fornocultura</td>\n",
       "      <td>False</td>\n",
       "    </tr>\n",
       "    <tr>\n",
       "      <th>2</th>\n",
       "      <td>2022-05-21 16:01:40+00:00</td>\n",
       "      <td>Today is the last day for Marvelous Marble #Of...</td>\n",
       "      <td>0</td>\n",
       "      <td>0</td>\n",
       "      <td>icingonthecpcke</td>\n",
       "      <td>False</td>\n",
       "    </tr>\n",
       "    <tr>\n",
       "      <th>3</th>\n",
       "      <td>2022-05-21 16:00:49+00:00</td>\n",
       "      <td>For years, the chocolate industry has not suff...</td>\n",
       "      <td>2</td>\n",
       "      <td>0</td>\n",
       "      <td>FoodIsPower</td>\n",
       "      <td>False</td>\n",
       "    </tr>\n",
       "    <tr>\n",
       "      <th>4</th>\n",
       "      <td>2022-05-21 15:56:39+00:00</td>\n",
       "      <td>Dark chocolate or milk chocolate? #chocolate</td>\n",
       "      <td>1</td>\n",
       "      <td>0</td>\n",
       "      <td>CandleQueenUS</td>\n",
       "      <td>False</td>\n",
       "    </tr>\n",
       "    <tr>\n",
       "      <th>...</th>\n",
       "      <td>...</td>\n",
       "      <td>...</td>\n",
       "      <td>...</td>\n",
       "      <td>...</td>\n",
       "      <td>...</td>\n",
       "      <td>...</td>\n",
       "    </tr>\n",
       "    <tr>\n",
       "      <th>4995</th>\n",
       "      <td>2022-04-30 16:35:21+00:00</td>\n",
       "      <td>Enjoying #alfajores by the sea today. Where ar...</td>\n",
       "      <td>0</td>\n",
       "      <td>0</td>\n",
       "      <td>comoencasa_uk</td>\n",
       "      <td>False</td>\n",
       "    </tr>\n",
       "    <tr>\n",
       "      <th>4996</th>\n",
       "      <td>2022-04-30 16:30:05+00:00</td>\n",
       "      <td>📣 New Podcast! \"What would YOU like in your bo...</td>\n",
       "      <td>0</td>\n",
       "      <td>0</td>\n",
       "      <td>TransformULive</td>\n",
       "      <td>False</td>\n",
       "    </tr>\n",
       "    <tr>\n",
       "      <th>4997</th>\n",
       "      <td>2022-04-30 16:29:52+00:00</td>\n",
       "      <td>Peanut butter balls  #Sweets #Confectionery #F...</td>\n",
       "      <td>1</td>\n",
       "      <td>0</td>\n",
       "      <td>AliciaC86668709</td>\n",
       "      <td>False</td>\n",
       "    </tr>\n",
       "    <tr>\n",
       "      <th>4998</th>\n",
       "      <td>2022-04-30 16:24:07+00:00</td>\n",
       "      <td>C$21.84 - #FreeShipping | Shop more, save more...</td>\n",
       "      <td>0</td>\n",
       "      <td>0</td>\n",
       "      <td>kanadianbest</td>\n",
       "      <td>False</td>\n",
       "    </tr>\n",
       "    <tr>\n",
       "      <th>4999</th>\n",
       "      <td>2022-04-30 16:22:37+00:00</td>\n",
       "      <td>Pain au Chocolat at the Lost Lamb in Stockbrid...</td>\n",
       "      <td>1</td>\n",
       "      <td>0</td>\n",
       "      <td>AuthorSethCohen</td>\n",
       "      <td>False</td>\n",
       "    </tr>\n",
       "  </tbody>\n",
       "</table>\n",
       "<p>5000 rows × 6 columns</p>\n",
       "</div>"
      ],
      "text/plain": [
       "                          date  \\\n",
       "0    2022-05-21 16:12:26+00:00   \n",
       "1    2022-05-21 16:06:30+00:00   \n",
       "2    2022-05-21 16:01:40+00:00   \n",
       "3    2022-05-21 16:00:49+00:00   \n",
       "4    2022-05-21 15:56:39+00:00   \n",
       "...                        ...   \n",
       "4995 2022-04-30 16:35:21+00:00   \n",
       "4996 2022-04-30 16:30:05+00:00   \n",
       "4997 2022-04-30 16:29:52+00:00   \n",
       "4998 2022-04-30 16:24:07+00:00   \n",
       "4999 2022-04-30 16:22:37+00:00   \n",
       "\n",
       "                                                content  like_count  \\\n",
       "0     Paleo breakfast two over easy eggs+ bologna sa...           0   \n",
       "1     Our Bitter Cacao Sourdough Bread - bitter Cioc...           1   \n",
       "2     Today is the last day for Marvelous Marble #Of...           0   \n",
       "3     For years, the chocolate industry has not suff...           2   \n",
       "4          Dark chocolate or milk chocolate? #chocolate           1   \n",
       "...                                                 ...         ...   \n",
       "4995  Enjoying #alfajores by the sea today. Where ar...           0   \n",
       "4996  📣 New Podcast! \"What would YOU like in your bo...           0   \n",
       "4997  Peanut butter balls  #Sweets #Confectionery #F...           1   \n",
       "4998  C$21.84 - #FreeShipping | Shop more, save more...           0   \n",
       "4999  Pain au Chocolat at the Lost Lamb in Stockbrid...           1   \n",
       "\n",
       "      retweet_count         username  verified  \n",
       "0                 0        vibeman49     False  \n",
       "1                 0     fornocultura     False  \n",
       "2                 0  icingonthecpcke     False  \n",
       "3                 0      FoodIsPower     False  \n",
       "4                 0    CandleQueenUS     False  \n",
       "...             ...              ...       ...  \n",
       "4995              0    comoencasa_uk     False  \n",
       "4996              0   TransformULive     False  \n",
       "4997              0  AliciaC86668709     False  \n",
       "4998              0     kanadianbest     False  \n",
       "4999              0  AuthorSethCohen     False  \n",
       "\n",
       "[5000 rows x 6 columns]"
      ]
     },
     "execution_count": 9,
     "metadata": {},
     "output_type": "execute_result"
    }
   ],
   "source": [
    "query = '(#chocolate) lang:en'\n",
    "limit = 5000\n",
    "tweets = []\n",
    "\n",
    "for tweet in sntwitter.TwitterSearchScraper(query).get_items():\n",
    "    if len(tweets) == limit:\n",
    "        break\n",
    "    else:\n",
    "        tweets.append([tweet.date, tweet.content, tweet.likeCount, tweet.retweetCount, tweet.user.username, tweet.user.verified])\n",
    "\n",
    "df = pd.DataFrame(tweets, columns=['date', 'content', 'like_count', 'retweet_count', 'username', 'verified'])\n",
    "\n",
    "df"
   ]
  },
  {
   "cell_type": "code",
   "execution_count": 10,
   "id": "6a2413e5",
   "metadata": {},
   "outputs": [],
   "source": [
    "df.to_csv('tweets.csv', index=False)"
   ]
  },
  {
   "cell_type": "code",
   "execution_count": 13,
   "id": "a2975309",
   "metadata": {},
   "outputs": [
    {
     "data": {
      "text/html": [
       "<div>\n",
       "<style scoped>\n",
       "    .dataframe tbody tr th:only-of-type {\n",
       "        vertical-align: middle;\n",
       "    }\n",
       "\n",
       "    .dataframe tbody tr th {\n",
       "        vertical-align: top;\n",
       "    }\n",
       "\n",
       "    .dataframe thead th {\n",
       "        text-align: right;\n",
       "    }\n",
       "</style>\n",
       "<table border=\"1\" class=\"dataframe\">\n",
       "  <thead>\n",
       "    <tr style=\"text-align: right;\">\n",
       "      <th></th>\n",
       "      <th>like_count</th>\n",
       "      <th>retweet_count</th>\n",
       "    </tr>\n",
       "  </thead>\n",
       "  <tbody>\n",
       "    <tr>\n",
       "      <th>count</th>\n",
       "      <td>5000.000000</td>\n",
       "      <td>5000.000000</td>\n",
       "    </tr>\n",
       "    <tr>\n",
       "      <th>mean</th>\n",
       "      <td>3.292600</td>\n",
       "      <td>0.701800</td>\n",
       "    </tr>\n",
       "    <tr>\n",
       "      <th>std</th>\n",
       "      <td>27.625981</td>\n",
       "      <td>5.340878</td>\n",
       "    </tr>\n",
       "    <tr>\n",
       "      <th>min</th>\n",
       "      <td>0.000000</td>\n",
       "      <td>0.000000</td>\n",
       "    </tr>\n",
       "    <tr>\n",
       "      <th>25%</th>\n",
       "      <td>0.000000</td>\n",
       "      <td>0.000000</td>\n",
       "    </tr>\n",
       "    <tr>\n",
       "      <th>50%</th>\n",
       "      <td>0.000000</td>\n",
       "      <td>0.000000</td>\n",
       "    </tr>\n",
       "    <tr>\n",
       "      <th>75%</th>\n",
       "      <td>2.000000</td>\n",
       "      <td>0.000000</td>\n",
       "    </tr>\n",
       "    <tr>\n",
       "      <th>max</th>\n",
       "      <td>1587.000000</td>\n",
       "      <td>253.000000</td>\n",
       "    </tr>\n",
       "  </tbody>\n",
       "</table>\n",
       "</div>"
      ],
      "text/plain": [
       "        like_count  retweet_count\n",
       "count  5000.000000    5000.000000\n",
       "mean      3.292600       0.701800\n",
       "std      27.625981       5.340878\n",
       "min       0.000000       0.000000\n",
       "25%       0.000000       0.000000\n",
       "50%       0.000000       0.000000\n",
       "75%       2.000000       0.000000\n",
       "max    1587.000000     253.000000"
      ]
     },
     "execution_count": 13,
     "metadata": {},
     "output_type": "execute_result"
    }
   ],
   "source": [
    "df.describe()"
   ]
  },
  {
   "cell_type": "code",
   "execution_count": 14,
   "id": "0bf0b430",
   "metadata": {},
   "outputs": [
    {
     "data": {
      "text/plain": [
       "False    4916\n",
       "True       84\n",
       "Name: verified, dtype: int64"
      ]
     },
     "execution_count": 14,
     "metadata": {},
     "output_type": "execute_result"
    }
   ],
   "source": [
    "df.verified.value_counts()"
   ]
  },
  {
   "cell_type": "code",
   "execution_count": 15,
   "id": "adb0ac87",
   "metadata": {},
   "outputs": [
    {
     "data": {
      "text/plain": [
       "2022-05-02 18:10:03+00:00    2\n",
       "2022-05-02 10:50:40+00:00    2\n",
       "2022-05-06 20:01:46+00:00    2\n",
       "2022-05-07 09:39:06+00:00    2\n",
       "2022-05-08 13:00:02+00:00    2\n",
       "                            ..\n",
       "2022-05-15 02:43:50+00:00    1\n",
       "2022-05-15 03:00:04+00:00    1\n",
       "2022-05-15 03:00:30+00:00    1\n",
       "2022-05-15 03:16:03+00:00    1\n",
       "2022-04-30 16:22:37+00:00    1\n",
       "Name: date, Length: 4982, dtype: int64"
      ]
     },
     "execution_count": 15,
     "metadata": {},
     "output_type": "execute_result"
    }
   ],
   "source": [
    "df.date.value_counts()"
   ]
  },
  {
   "cell_type": "code",
   "execution_count": null,
   "id": "e0d93e30",
   "metadata": {},
   "outputs": [],
   "source": []
  }
 ],
 "metadata": {
  "kernelspec": {
   "display_name": "Python 3 (ipykernel)",
   "language": "python",
   "name": "python3"
  },
  "language_info": {
   "codemirror_mode": {
    "name": "ipython",
    "version": 3
   },
   "file_extension": ".py",
   "mimetype": "text/x-python",
   "name": "python",
   "nbconvert_exporter": "python",
   "pygments_lexer": "ipython3",
   "version": "3.9.7"
  }
 },
 "nbformat": 4,
 "nbformat_minor": 5
}
